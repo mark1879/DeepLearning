{
 "cells": [
  {
   "cell_type": "markdown",
   "id": "9b3200fc",
   "metadata": {},
   "source": [
    "### 数据生成"
   ]
  },
  {
   "cell_type": "code",
   "execution_count": 2,
   "id": "41b74aeb",
   "metadata": {},
   "outputs": [],
   "source": [
    "import numpy as np\n",
    "import torch\n",
    "\n",
    "# 设置随机数种子，使得每次运行代码生成的数据相同\n",
    "np.random.seed(42)\n",
    "\n",
    "# 生成随机数据，w为2，b为1\n",
    "x = np.random.rand(100, 1)\n",
    "y = 1 + 2*x + 0.1 * np.random.randn(100, 1)"
   ]
  },
  {
   "cell_type": "code",
   "execution_count": 16,
   "id": "0f09a2a7",
   "metadata": {},
   "outputs": [],
   "source": [
    "# 将数据转换为 pytorch tensor\n",
    "x_tensor = torch.from_numpy(x).float()\n",
    "y_tensor = torch.from_numpy(y).float()"
   ]
  },
  {
   "cell_type": "markdown",
   "id": "a8847ffb",
   "metadata": {},
   "source": [
    "### 设置超参数"
   ]
  },
  {
   "cell_type": "code",
   "execution_count": 6,
   "id": "5ab882c9",
   "metadata": {},
   "outputs": [],
   "source": [
    "learning_rate = 0.1\n",
    "num_epochs = 1000"
   ]
  },
  {
   "cell_type": "markdown",
   "id": "83e8374a",
   "metadata": {},
   "source": [
    "### 初始化参数"
   ]
  },
  {
   "cell_type": "code",
   "execution_count": 11,
   "id": "3b76cb67",
   "metadata": {},
   "outputs": [],
   "source": [
    "w = torch.randn(1, requires_grad = True)\n",
    "b = torch.zeros(1, requires_grad = True)"
   ]
  },
  {
   "cell_type": "markdown",
   "id": "f555c4cc",
   "metadata": {},
   "source": [
    "### 初始化训练"
   ]
  },
  {
   "cell_type": "code",
   "execution_count": 13,
   "id": "f791fd78",
   "metadata": {},
   "outputs": [
    {
     "name": "stdout",
     "output_type": "stream",
     "text": [
      "w: tensor([1.9540], requires_grad=True)\n",
      "b: tensor([1.0215], requires_grad=True)\n"
     ]
    }
   ],
   "source": [
    "for epoch in range(num_epochs):\n",
    "    y_pred = x_tensor * w + b\n",
    "    \n",
    "    loss = ((y_pred - y_tensor) ** 2).mean()\n",
    "    \n",
    "    loss.backward()\n",
    "    \n",
    "    with torch.no_grad():\n",
    "        w -= learning_rate * w.grad\n",
    "        b -= learning_rate * b.grad\n",
    "        \n",
    "        w.grad.zero_()\n",
    "        b.grad.zero_()\n",
    "        \n",
    "print('w:', w)\n",
    "print('b:', b)"
   ]
  },
  {
   "cell_type": "markdown",
   "id": "e95d2661",
   "metadata": {},
   "source": [
    "### 可视化"
   ]
  },
  {
   "cell_type": "code",
   "execution_count": 15,
   "id": "5b0d4d7f",
   "metadata": {},
   "outputs": [
    {
     "data": {
      "image/png": "[encoded data removed]",
      "text/plain": [
       "<Figure size 640x480 with 1 Axes>"
      ]
     },
     "metadata": {},
     "output_type": "display_data"
    }
   ],
   "source": [
    "import matplotlib.pyplot as plt\n",
    "\n",
    "plt.plot(x, y, 'o')\n",
    "plt.plot(x_tensor.numpy(), y_pred.detach().numpy())\n",
    "plt.show()"
   ]
  },
  {
   "cell_type": "markdown",
   "id": "1b9a18a4",
   "metadata": {},
   "source": [
    "### pytorch 模型实现"
   ]
  },
  {
   "cell_type": "code",
   "execution_count": 20,
   "id": "3398c2b4",
   "metadata": {},
   "outputs": [
    {
     "name": "stdout",
     "output_type": "stream",
     "text": [
      "w:  tensor([[1.9540]])\n",
      "b:  tensor([1.0215])\n"
     ]
    }
   ],
   "source": [
    "import numpy as np\n",
    "import torch\n",
    "import torch.nn as nn\n",
    "\n",
    "# 设置随机数种子，使得每次运行代码生成的数据相同\n",
    "np.random.seed(42)\n",
    "\n",
    "# 生成随机数据\n",
    "x = np.random.rand(100, 1)\n",
    "y = 1 + 2 * x + 0.1 * np.random.randn(100, 1)\n",
    "\n",
    "# 将数据转换为 pytorch tensor\n",
    "x_tensor = torch.from_numpy(x).float()\n",
    "y_tensor = torch.from_numpy(y).float()\n",
    "\n",
    "# 设置超参数\n",
    "learning_rate = 0.1\n",
    "num_epochs = 1000\n",
    "\n",
    "input_dim = 1\n",
    "output_dim = 1\n",
    "\n",
    "model = nn.Linear(input_dim, output_dim)\n",
    "\n",
    "criterion = nn.MSELoss()\n",
    "optimizer = torch.optim.SGD(model.parameters(), lr=learning_rate)\n",
    "\n",
    "for epoch in range(num_epochs):\n",
    "    y_pred = model(x_tensor)\n",
    "    \n",
    "    loss = criterion(y_pred, y_tensor)\n",
    "    \n",
    "    optimizer.zero_grad()\n",
    "    \n",
    "    loss.backward()\n",
    "    \n",
    "    optimizer.step()\n",
    "    \n",
    "print('w: ', model.weight.data)\n",
    "print('b: ', model.bias.data)"
   ]
  },
  {
   "cell_type": "code",
   "execution_count": null,
   "id": "d806a7a6",
   "metadata": {},
   "outputs": [],
   "source": []
  }
 ],
 "metadata": {
  "kernelspec": {
   "display_name": "Python 3 (ipykernel)",
   "language": "python",
   "name": "python3"
  },
  "language_info": {
   "codemirror_mode": {
    "name": "ipython",
    "version": 3
   },
   "file_extension": ".py",
   "mimetype": "text/x-python",
   "name": "python",
   "nbconvert_exporter": "python",
   "pygments_lexer": "ipython3",
   "version": "3.10.9"
  }
 },
 "nbformat": 4,
 "nbformat_minor": 5
}
