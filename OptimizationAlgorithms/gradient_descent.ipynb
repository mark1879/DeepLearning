{
 "cells": [
  {
   "cell_type": "code",
   "execution_count": 8,
   "id": "7b074f53",
   "metadata": {},
   "outputs": [],
   "source": [
    "import numpy as np\n",
    "\n",
    "data = np.loadtxt(fname=\"./linear_data.csv\", delimiter='\\t')\n",
    "\n",
    "# normalization\n",
    "data -= data.mean(axis=0)\n",
    "data /= data.std(axis=0)\n",
    "\n",
    "x = data[:, : -1]\n",
    "y = data[:, -1]"
   ]
  },
  {
   "cell_type": "code",
   "execution_count": 9,
   "id": "66d16c86",
   "metadata": {},
   "outputs": [
    {
     "data": {
      "text/plain": [
       "(1503, 5)"
      ]
     },
     "execution_count": 9,
     "metadata": {},
     "output_type": "execute_result"
    }
   ],
   "source": [
    "N, M = x.shape\n",
    "N, M"
   ]
  },
  {
   "cell_type": "code",
   "execution_count": 10,
   "id": "ac656771",
   "metadata": {},
   "outputs": [],
   "source": [
    "def predict(x):\n",
    "    return w.dot(x) + b"
   ]
  },
  {
   "cell_type": "code",
   "execution_count": 11,
   "id": "07893999",
   "metadata": {},
   "outputs": [
    {
     "data": {
      "text/plain": [
       "0.6590042695516543"
      ]
     },
     "execution_count": 11,
     "metadata": {},
     "output_type": "execute_result"
    }
   ],
   "source": [
    "# Test\n",
    "w = np.ones(M)\n",
    "b = 0\n",
    "predict(x[0])"
   ]
  },
  {
   "cell_type": "code",
   "execution_count": 12,
   "id": "fdae1382",
   "metadata": {},
   "outputs": [],
   "source": [
    "def get_loss():\n",
    "    loss = 0\n",
    "    for i in range(N):\n",
    "        pred = predict(x[i])\n",
    "        loss += (pred - y[i]) ** 2\n",
    "        \n",
    "    return loss / N"
   ]
  },
  {
   "cell_type": "code",
   "execution_count": 13,
   "id": "2805dbe5",
   "metadata": {},
   "outputs": [
    {
     "data": {
      "text/plain": [
       "7.367867692433937"
      ]
     },
     "execution_count": 13,
     "metadata": {},
     "output_type": "execute_result"
    }
   ],
   "source": [
    "get_loss()"
   ]
  },
  {
   "cell_type": "code",
   "execution_count": 39,
   "id": "acbc8c8f",
   "metadata": {},
   "outputs": [
    {
     "data": {
      "text/plain": [
       "(array([2.03668543, 2.38225639, 1.02215384, 2.13526642, 3.22327899]),\n",
       " 0.00100000000458067)"
      ]
     },
     "execution_count": 39,
     "metadata": {},
     "output_type": "execute_result"
    }
   ],
   "source": [
    "def get_gradient():\n",
    "    global w\n",
    "    global b\n",
    "    \n",
    "    eps = 1e-3\n",
    "    \n",
    "    loss_before = get_loss()\n",
    "    \n",
    "    gradient_w = np.empty(M)\n",
    "    for i in range(M):\n",
    "        w[i] += eps\n",
    "        loss_after = get_loss()\n",
    "        w[i] -= eps\n",
    "        gradient_w[i] = (loss_after - loss_before) / eps\n",
    "        \n",
    "        b += eps\n",
    "        loss_after = get_loss()\n",
    "        b -= eps\n",
    "        gradient_b = (loss_after - loss_before) / eps\n",
    "\n",
    "    return gradient_w, gradient_b\n",
    "\n",
    "\n",
    "get_gradient()"
   ]
  },
  {
   "cell_type": "code",
   "execution_count": 50,
   "id": "3e344996",
   "metadata": {},
   "outputs": [],
   "source": [
    "plt_x = []\n",
    "plt_y = []\n",
    "for i in range(500):\n",
    "    gradient_w, gradient_b = get_gradient()\n",
    "    w -= gradient_w * 1e-2\n",
    "    b -= gradient_b * 1e-2\n",
    "\n",
    "    plt_x.append(i)\n",
    "    plt_y.append(get_loss())"
   ]
  },
  {
   "cell_type": "code",
   "execution_count": 51,
   "id": "aeaf5994",
   "metadata": {},
   "outputs": [
    {
     "data": {
      "image/png": "[encoded data removed]",
      "text/plain": [
       "<Figure size 640x480 with 1 Axes>"
      ]
     },
     "metadata": {},
     "output_type": "display_data"
    }
   ],
   "source": [
    "from matplotlib import pyplot as plt\n",
    "%matplotlib inline\n",
    "\n",
    "plt.plot(plt_x, plt_y)\n",
    "plt.show()"
   ]
  },
  {
   "cell_type": "code",
   "execution_count": null,
   "id": "5a16caba",
   "metadata": {},
   "outputs": [],
   "source": []
  }
 ],
 "metadata": {
  "kernelspec": {
   "display_name": "Python 3 (ipykernel)",
   "language": "python",
   "name": "python3"
  },
  "language_info": {
   "codemirror_mode": {
    "name": "ipython",
    "version": 3
   },
   "file_extension": ".py",
   "mimetype": "text/x-python",
   "name": "python",
   "nbconvert_exporter": "python",
   "pygments_lexer": "ipython3",
   "version": "3.9.13"
  }
 },
 "nbformat": 4,
 "nbformat_minor": 5
}
