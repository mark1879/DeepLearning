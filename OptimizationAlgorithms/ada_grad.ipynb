{
 "cells": [
  {
   "cell_type": "code",
   "execution_count": 29,
   "id": "4fcd93aa",
   "metadata": {},
   "outputs": [
    {
     "data": {
      "text/plain": [
       "((1503, 5), (1503,))"
      ]
     },
     "execution_count": 29,
     "metadata": {},
     "output_type": "execute_result"
    }
   ],
   "source": [
    "import numpy as np\n",
    "\n",
    "data = np.loadtxt(fname='./linear_data.csv', delimiter='\\t')\n",
    "\n",
    "data -= data.mean(axis=0)\n",
    "data /= data.std(axis=0)\n",
    "\n",
    "x = data[:, :-1]\n",
    "y = data[:, -1]\n",
    "\n",
    "x.shape, y.shape"
   ]
  },
  {
   "cell_type": "code",
   "execution_count": 30,
   "id": "cc6c8e3c",
   "metadata": {},
   "outputs": [
    {
     "data": {
      "text/plain": [
       "array([0., 0., 0., 0., 0.])"
      ]
     },
     "execution_count": 30,
     "metadata": {},
     "output_type": "execute_result"
    }
   ],
   "source": [
    "N, M = x.shape\n",
    "\n",
    "w = np.ones(M)\n",
    "b = 0\n",
    "\n",
    "S_w = np.zeros(M)\n",
    "S_b = 0\n",
    "\n",
    "S_w"
   ]
  },
  {
   "cell_type": "code",
   "execution_count": 31,
   "id": "92163201",
   "metadata": {},
   "outputs": [
    {
     "data": {
      "text/plain": [
       "0.6590042695516543"
      ]
     },
     "execution_count": 31,
     "metadata": {},
     "output_type": "execute_result"
    }
   ],
   "source": [
    "def predict(x):\n",
    "    return w.dot(x) + b\n",
    "\n",
    "\n",
    "predict(x[0])"
   ]
  },
  {
   "cell_type": "code",
   "execution_count": 32,
   "id": "a7bb7a80",
   "metadata": {},
   "outputs": [
    {
     "data": {
      "text/plain": [
       "0.21258140154187277"
      ]
     },
     "execution_count": 32,
     "metadata": {},
     "output_type": "execute_result"
    }
   ],
   "source": [
    "def get_loss(x, y):\n",
    "    pred = predict(x)\n",
    "    loss = (pred - y)**2\n",
    "    return loss\n",
    "\n",
    "\n",
    "get_loss(x[0], y[0])"
   ]
  },
  {
   "cell_type": "code",
   "execution_count": 33,
   "id": "8027d213",
   "metadata": {},
   "outputs": [
    {
     "data": {
      "text/plain": [
       "(array([-0.61003339, -1.05581946,  1.66242713,  1.21242212, -0.59417855]),\n",
       " 0.9231310135582593)"
      ]
     },
     "execution_count": 33,
     "metadata": {},
     "output_type": "execute_result"
    }
   ],
   "source": [
    "def get_gradient(x, y):\n",
    "    global w\n",
    "    global b\n",
    "\n",
    "    eps = 1e-3\n",
    "\n",
    "    loss_before = get_loss(x, y)\n",
    "\n",
    "    gradient_w = np.empty(M)\n",
    "    for i in range(M):\n",
    "        w[i] += eps\n",
    "        loss_after = get_loss(x, y)\n",
    "        w[i] -= eps\n",
    "        gradient_w[i] = (loss_after - loss_before) / eps\n",
    "\n",
    "    b += eps\n",
    "    loss_after = get_loss(x, y)\n",
    "    b -= eps\n",
    "    gradient_b = (loss_after - loss_before) / eps\n",
    "\n",
    "    return gradient_w, gradient_b\n",
    "\n",
    "\n",
    "get_gradient(x[0], y[0])"
   ]
  },
  {
   "cell_type": "code",
   "execution_count": 34,
   "id": "f39e0125",
   "metadata": {},
   "outputs": [
    {
     "data": {
      "text/plain": [
       "11073.905141728206"
      ]
     },
     "execution_count": 34,
     "metadata": {},
     "output_type": "execute_result"
    }
   ],
   "source": [
    "def total_loss():\n",
    "    loss = 0\n",
    "    for i in range(N):\n",
    "        loss += get_loss(x[i], y[i])\n",
    "    return loss\n",
    "\n",
    "\n",
    "total_loss()"
   ]
  },
  {
   "cell_type": "code",
   "execution_count": 35,
   "id": "c371c6a4",
   "metadata": {},
   "outputs": [
    {
     "name": "stdout",
     "output_type": "stream",
     "text": [
      "0 [0.56636095 0.05858363 0.04814669 0.03846768 0.08395236] 0.04739642300958612 10517.514359207338\n",
      "150 [0.00180141 0.00231144 0.00228052 0.00218072 0.00197149] 0.002380169363262506 2832.167609616658\n",
      "300 [0.00137824 0.00192293 0.00184673 0.0018268  0.0016123 ] 0.0019423005508928985 1709.9226890514005\n",
      "450 [0.00126211 0.00168626 0.00165128 0.00164647 0.0014573 ] 0.0017201899432316202 1247.7036232404168\n",
      "600 [0.00117099 0.00159716 0.0015452  0.00154385 0.0013786 ] 0.0016138157657656076 1022.4983640078017\n",
      "750 [0.00112968 0.0015189  0.00148884 0.00147634 0.00130672] 0.0015361502510035365 929.5581461076157\n",
      "900 [0.00108116 0.00146484 0.0014321  0.00143101 0.00127029] 0.0014791521394320654 844.8985992531091\n",
      "1050 [0.00104165 0.00141214 0.00139475 0.00139689 0.00124408] 0.0014377696108773552 822.8530099338026\n",
      "1200 [0.00103126 0.00137615 0.00136227 0.00135929 0.00122013] 0.0013988304840800796 820.9382154178479\n",
      "1350 [0.00100008 0.00132869 0.00132432 0.00132143 0.00118858] 0.001354756547169753 809.3540770504349\n",
      "1500 [0.0009727  0.00127574 0.00128443 0.00127581 0.00115545] 0.00131024730862691 778.0615754452712\n",
      "1650 [0.00095852 0.0012495  0.00125018 0.00124779 0.00113582] 0.0012750161737539493 763.9315147777029\n",
      "1800 [0.00093232 0.00120774 0.00121742 0.00121681 0.00111554] 0.0012402528999482568 764.4973732031424\n",
      "1950 [0.0009175  0.00117439 0.00119763 0.0011939  0.00108225] 0.0012154149236295046 754.4319205628886\n",
      "2100 [0.00090525 0.00115227 0.00117315 0.00116668 0.00105734] 0.0011869854439030614 749.1067442073263\n",
      "2250 [0.0008887  0.00112755 0.001151   0.00114747 0.001047  ] 0.0011646823530397016 751.5403017498558\n",
      "2400 [0.00086988 0.00108241 0.00112248 0.00112057 0.00103119] 0.001138085557013159 748.877768092581\n"
     ]
    }
   ],
   "source": [
    "plt_x = []\n",
    "plt_y = []\n",
    "for epoch in range(2500):\n",
    "    i = np.random.randint(N)\n",
    "    gradient_w, gradient_b = get_gradient(x[i], y[i])\n",
    "\n",
    "    # 每个变量都有自己的 lr\n",
    "    S_w = S_w + gradient_w**2\n",
    "    S_b = S_b + gradient_b**2\n",
    "\n",
    "    # 计算lr的公式, 1e-6用于防止除0\n",
    "    lr_w = 1e-1 / ((S_w + 1e-6)**0.5)\n",
    "    lr_b = 1e-1 / ((S_b + 1e-6)**0.5)\n",
    "\n",
    "    # 在时刻0, lr就等于梯度的倒数\n",
    "    # 梯度大的变量会有小lr,梯度小的变量会有大lr\n",
    "    w -= gradient_w * lr_w\n",
    "    b -= gradient_b * lr_b\n",
    "\n",
    "    plt_x.append(epoch)\n",
    "    plt_y.append(total_loss())\n",
    "\n",
    "    if epoch % 150 == 0:\n",
    "        print(epoch, lr_w, lr_b, total_loss())"
   ]
  },
  {
   "cell_type": "code",
   "execution_count": 36,
   "id": "0471a70d",
   "metadata": {
    "scrolled": true
   },
   "outputs": [
    {
     "data": {
      "image/png": "[encoded data removed]",
      "text/plain": [
       "<Figure size 640x480 with 1 Axes>"
      ]
     },
     "metadata": {},
     "output_type": "display_data"
    }
   ],
   "source": [
    "from matplotlib import pyplot as plt\n",
    "%matplotlib inline\n",
    "\n",
    "plt.plot(plt_x, plt_y)\n",
    "plt.show()"
   ]
  },
  {
   "cell_type": "code",
   "execution_count": null,
   "id": "756925bd",
   "metadata": {},
   "outputs": [],
   "source": []
  }
 ],
 "metadata": {
  "kernelspec": {
   "display_name": "Python 3 (ipykernel)",
   "language": "python",
   "name": "python3"
  },
  "language_info": {
   "codemirror_mode": {
    "name": "ipython",
    "version": 3
   },
   "file_extension": ".py",
   "mimetype": "text/x-python",
   "name": "python",
   "nbconvert_exporter": "python",
   "pygments_lexer": "ipython3",
   "version": "3.9.13"
  }
 },
 "nbformat": 4,
 "nbformat_minor": 5
}
