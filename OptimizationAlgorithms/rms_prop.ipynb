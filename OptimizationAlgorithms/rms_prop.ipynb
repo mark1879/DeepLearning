{
 "cells": [
  {
   "cell_type": "code",
   "execution_count": 1,
   "id": "4fcd93aa",
   "metadata": {},
   "outputs": [
    {
     "data": {
      "text/plain": [
       "((1503, 5), (1503,))"
      ]
     },
     "execution_count": 1,
     "metadata": {},
     "output_type": "execute_result"
    }
   ],
   "source": [
    "import numpy as np\n",
    "\n",
    "data = np.loadtxt(fname='./linear_data.csv', delimiter='\\t')\n",
    "\n",
    "data -= data.mean(axis=0)\n",
    "data /= data.std(axis=0)\n",
    "\n",
    "x = data[:, :-1]\n",
    "y = data[:, -1]\n",
    "\n",
    "x.shape, y.shape"
   ]
  },
  {
   "cell_type": "code",
   "execution_count": 2,
   "id": "cc6c8e3c",
   "metadata": {},
   "outputs": [
    {
     "data": {
      "text/plain": [
       "array([0., 0., 0., 0., 0.])"
      ]
     },
     "execution_count": 2,
     "metadata": {},
     "output_type": "execute_result"
    }
   ],
   "source": [
    "N, M = x.shape\n",
    "\n",
    "w = np.ones(M)\n",
    "b = 0\n",
    "\n",
    "S_w = np.zeros(M)\n",
    "S_b = 0\n",
    "\n",
    "S_w"
   ]
  },
  {
   "cell_type": "code",
   "execution_count": 3,
   "id": "92163201",
   "metadata": {},
   "outputs": [
    {
     "data": {
      "text/plain": [
       "0.6590042695516543"
      ]
     },
     "execution_count": 3,
     "metadata": {},
     "output_type": "execute_result"
    }
   ],
   "source": [
    "def predict(x):\n",
    "    return w.dot(x) + b\n",
    "\n",
    "\n",
    "predict(x[0])"
   ]
  },
  {
   "cell_type": "code",
   "execution_count": 4,
   "id": "a7bb7a80",
   "metadata": {},
   "outputs": [
    {
     "data": {
      "text/plain": [
       "0.21258140154187277"
      ]
     },
     "execution_count": 4,
     "metadata": {},
     "output_type": "execute_result"
    }
   ],
   "source": [
    "def get_loss(x, y):\n",
    "    pred = predict(x)\n",
    "    loss = (pred - y)**2\n",
    "    return loss\n",
    "\n",
    "\n",
    "get_loss(x[0], y[0])"
   ]
  },
  {
   "cell_type": "code",
   "execution_count": 5,
   "id": "8027d213",
   "metadata": {},
   "outputs": [
    {
     "data": {
      "text/plain": [
       "(array([-0.61003339, -1.05581946,  1.66242713,  1.21242212, -0.59417855]),\n",
       " 0.9231310135582593)"
      ]
     },
     "execution_count": 5,
     "metadata": {},
     "output_type": "execute_result"
    }
   ],
   "source": [
    "def get_gradient(x, y):\n",
    "    global w\n",
    "    global b\n",
    "\n",
    "    eps = 1e-3\n",
    "\n",
    "    loss_before = get_loss(x, y)\n",
    "\n",
    "    gradient_w = np.empty(M)\n",
    "    for i in range(M):\n",
    "        w[i] += eps\n",
    "        loss_after = get_loss(x, y)\n",
    "        w[i] -= eps\n",
    "        gradient_w[i] = (loss_after - loss_before) / eps\n",
    "\n",
    "    b += eps\n",
    "    loss_after = get_loss(x, y)\n",
    "    b -= eps\n",
    "    gradient_b = (loss_after - loss_before) / eps\n",
    "\n",
    "    return gradient_w, gradient_b\n",
    "\n",
    "\n",
    "get_gradient(x[0], y[0])"
   ]
  },
  {
   "cell_type": "code",
   "execution_count": 6,
   "id": "f39e0125",
   "metadata": {},
   "outputs": [
    {
     "data": {
      "text/plain": [
       "11073.905141728206"
      ]
     },
     "execution_count": 6,
     "metadata": {},
     "output_type": "execute_result"
    }
   ],
   "source": [
    "def total_loss():\n",
    "    loss = 0\n",
    "    for i in range(N):\n",
    "        loss += get_loss(x[i], y[i])\n",
    "    return loss\n",
    "\n",
    "total_loss()"
   ]
  },
  {
   "cell_type": "code",
   "execution_count": 7,
   "id": "c371c6a4",
   "metadata": {},
   "outputs": [
    {
     "name": "stdout",
     "output_type": "stream",
     "text": [
      "0 [0.00274438 0.00777651 0.01071901 0.0025117  0.00379749] 0.0018173341750310754 10928.395326286814\n",
      "150 [0.00325786 0.00171958 0.00215433 0.00436729 0.00246701] 0.001973535331185454 5085.690496355932\n",
      "300 [0.04520824 0.0066458  0.00239551 0.00342688 0.00923815] 0.0042008242672635174 2631.757579925701\n",
      "450 [0.00547762 0.00305773 0.00792833 0.00348157 0.00184887] 0.0043051963212081944 1108.2686007742573\n",
      "600 [0.03505759 0.00315829 0.01254092 0.00650109 0.00148264] 0.004660386798006876 866.3876026071468\n",
      "750 [0.00524296 0.0040299  0.01011704 0.00289687 0.00210475] 0.0037655645849864615 897.1027827164338\n",
      "900 [0.00483301 0.02485723 0.00373174 0.00279067 0.04930885] 0.0036624897295978232 788.1928135735736\n",
      "1050 [0.03675294 0.01406133 0.02563464 0.02746625 0.01596186] 0.022454335952567836 767.4615798234861\n",
      "1200 [0.02107121 0.03215454 0.02504015 0.01776528 0.01898111] 0.017687181747407348 807.9041087215793\n",
      "1350 [0.01060981 0.04843861 0.04141544 0.01049021 0.03215182] 0.0077285011021112635 893.8604528812231\n",
      "1500 [0.00383325 0.01208035 0.00962298 0.0069753  0.0126138 ] 0.009059419457288807 824.4007476450932\n",
      "1650 [0.03054661 0.00920467 0.02107855 0.00829853 0.00423625] 0.010894843675541473 950.5222963217343\n",
      "1800 [0.00273577 0.00505552 0.00196019 0.00315838 0.00448084] 0.0023207637289819885 813.24312966345\n",
      "1950 [0.02663936 0.01069558 0.01672984 0.02450788 0.02628672] 0.017846114045250883 795.077415110869\n",
      "2100 [0.0129209  0.03564978 0.05450214 0.0142511  0.01466563] 0.010457484199923565 821.5067983136543\n",
      "2250 [0.03716222 0.00907853 0.01326836 0.03394868 0.03855048] 0.015717627291950722 856.3886900777418\n",
      "2400 [0.00987764 0.01503505 0.00692918 0.02400862 0.0125453 ] 0.0072347744709896755 840.9201860302007\n"
     ]
    }
   ],
   "source": [
    "plt_x = []\n",
    "plt_y = []\n",
    "for epoch in range(2500):\n",
    "    i = np.random.randint(N)\n",
    "    gradient_w, gradient_b = get_gradient(x[i], y[i])\n",
    "\n",
    "    # rmsprop 是对 ada_grad 的改进,在 ada_grad 中 lr 是单调递减的.\n",
    "    # 但是在 rmsprop 中lr可能上升\n",
    "    S_w = 0.2 * S_w + 0.8 * gradient_w**2\n",
    "    S_b = 0.2 * S_b + 0.8 * gradient_b**2\n",
    "\n",
    "    lr_w = 1e-2 / ((S_w + 1e-6)**0.5)\n",
    "    lr_b = 1e-2 / ((S_b + 1e-6)**0.5)\n",
    "\n",
    "    w -= gradient_w * lr_w\n",
    "    b -= gradient_b * lr_b\n",
    "\n",
    "    plt_x.append(epoch)\n",
    "    plt_y.append(total_loss())\n",
    "\n",
    "    if epoch % 150 == 0:\n",
    "        print(epoch, lr_w, lr_b, total_loss())"
   ]
  },
  {
   "cell_type": "code",
   "execution_count": 8,
   "id": "0471a70d",
   "metadata": {
    "scrolled": true
   },
   "outputs": [
    {
     "data": {
      "image/png": "[encoded data removed]",
      "text/plain": [
       "<Figure size 640x480 with 1 Axes>"
      ]
     },
     "metadata": {},
     "output_type": "display_data"
    }
   ],
   "source": [
    "from matplotlib import pyplot as plt\n",
    "%matplotlib inline\n",
    "\n",
    "plt.plot(plt_x, plt_y)\n",
    "plt.show()"
   ]
  },
  {
   "cell_type": "code",
   "execution_count": null,
   "id": "82bc5c63",
   "metadata": {},
   "outputs": [],
   "source": []
  }
 ],
 "metadata": {
  "kernelspec": {
   "display_name": "Python 3 (ipykernel)",
   "language": "python",
   "name": "python3"
  },
  "language_info": {
   "codemirror_mode": {
    "name": "ipython",
    "version": 3
   },
   "file_extension": ".py",
   "mimetype": "text/x-python",
   "name": "python",
   "nbconvert_exporter": "python",
   "pygments_lexer": "ipython3",
   "version": "3.9.13"
  }
 },
 "nbformat": 4,
 "nbformat_minor": 5
}
