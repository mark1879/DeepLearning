{
 "cells": [
  {
   "cell_type": "code",
   "execution_count": 7,
   "id": "4fcd93aa",
   "metadata": {},
   "outputs": [
    {
     "data": {
      "text/plain": [
       "((1503, 5), (1503,))"
      ]
     },
     "execution_count": 7,
     "metadata": {},
     "output_type": "execute_result"
    }
   ],
   "source": [
    "import numpy as np\n",
    "\n",
    "data = np.loadtxt(fname='./linear_data.csv', delimiter='\\t')\n",
    "\n",
    "data -= data.mean(axis=0)\n",
    "data /= data.std(axis=0)\n",
    "\n",
    "x = data[:, :-1]\n",
    "y = data[:, -1]\n",
    "\n",
    "x.shape, y.shape"
   ]
  },
  {
   "cell_type": "code",
   "execution_count": 8,
   "id": "cc6c8e3c",
   "metadata": {},
   "outputs": [],
   "source": [
    "N, M = x.shape\n",
    "\n",
    "w = np.ones(M)\n",
    "b = 0\n",
    "\n",
    "S_w = np.zeros(M)\n",
    "S_b = 0\n",
    "\n",
    "delta_w = np.zeros(M)\n",
    "delta_b = 0"
   ]
  },
  {
   "cell_type": "code",
   "execution_count": 9,
   "id": "92163201",
   "metadata": {},
   "outputs": [
    {
     "data": {
      "text/plain": [
       "0.6590042695516543"
      ]
     },
     "execution_count": 9,
     "metadata": {},
     "output_type": "execute_result"
    }
   ],
   "source": [
    "def predict(x):\n",
    "    return w.dot(x) + b\n",
    "\n",
    "\n",
    "predict(x[0])"
   ]
  },
  {
   "cell_type": "code",
   "execution_count": 10,
   "id": "a7bb7a80",
   "metadata": {},
   "outputs": [
    {
     "data": {
      "text/plain": [
       "0.21258140154187277"
      ]
     },
     "execution_count": 10,
     "metadata": {},
     "output_type": "execute_result"
    }
   ],
   "source": [
    "def get_loss(x, y):\n",
    "    pred = predict(x)\n",
    "    loss = (pred - y)**2\n",
    "    return loss\n",
    "\n",
    "\n",
    "get_loss(x[0], y[0])"
   ]
  },
  {
   "cell_type": "code",
   "execution_count": 11,
   "id": "8027d213",
   "metadata": {},
   "outputs": [
    {
     "data": {
      "text/plain": [
       "(array([-0.61003339, -1.05581946,  1.66242713,  1.21242212, -0.59417855]),\n",
       " 0.9231310135582593)"
      ]
     },
     "execution_count": 11,
     "metadata": {},
     "output_type": "execute_result"
    }
   ],
   "source": [
    "def get_gradient(x, y):\n",
    "    global w\n",
    "    global b\n",
    "\n",
    "    eps = 1e-3\n",
    "\n",
    "    loss_before = get_loss(x, y)\n",
    "\n",
    "    gradient_w = np.empty(M)\n",
    "    for i in range(M):\n",
    "        w[i] += eps\n",
    "        loss_after = get_loss(x, y)\n",
    "        w[i] -= eps\n",
    "        gradient_w[i] = (loss_after - loss_before) / eps\n",
    "\n",
    "    b += eps\n",
    "    loss_after = get_loss(x, y)\n",
    "    b -= eps\n",
    "    gradient_b = (loss_after - loss_before) / eps\n",
    "\n",
    "    return gradient_w, gradient_b\n",
    "\n",
    "\n",
    "get_gradient(x[0], y[0])"
   ]
  },
  {
   "cell_type": "code",
   "execution_count": 12,
   "id": "f39e0125",
   "metadata": {},
   "outputs": [
    {
     "data": {
      "text/plain": [
       "11073.905141728206"
      ]
     },
     "execution_count": 12,
     "metadata": {},
     "output_type": "execute_result"
    }
   ],
   "source": [
    "def total_loss():\n",
    "    loss = 0\n",
    "    for i in range(N):\n",
    "        loss += get_loss(x[i], y[i])\n",
    "    return loss\n",
    "\n",
    "\n",
    "total_loss()"
   ]
  },
  {
   "cell_type": "code",
   "execution_count": 13,
   "id": "c371c6a4",
   "metadata": {},
   "outputs": [
    {
     "name": "stdout",
     "output_type": "stream",
     "text": [
      "0 [9.99992961e-07 9.99998652e-07] 9.999991220323846e-07 11074.61722867378\n",
      "500 [2.51140682e-06 2.16002695e-06] 2.603991290111943e-06 7673.8602231556715\n",
      "1000 [9.08539238e-07 1.60932324e-06] 3.026810255108069e-06 5253.227962933604\n",
      "1500 [1.73283372e-06 2.36995686e-06] 2.646633941389873e-06 3563.7232594766824\n",
      "2000 [2.07689248e-07 2.73607935e-07] 3.7887565491859233e-07 2313.6932174156755\n",
      "2500 [1.69738030e-06 4.88698223e-06] 3.422772111265935e-06 1595.748878825136\n",
      "3000 [1.06662611e-06 3.99784020e-06] 3.811995560506087e-06 1115.3253798511298\n",
      "3500 [9.44804387e-07 2.42122501e-06] 2.8053522012756664e-06 879.8368427419925\n",
      "4000 [4.40475014e-07 8.72234624e-07] 1.0361238742777367e-06 790.8620501492986\n",
      "4500 [1.44300498e-06 3.01051754e-07] 1.5803786798741067e-06 775.0965373933551\n",
      "5000 [2.49689798e-07 3.27229123e-06] 9.487370375004783e-07 765.5782767738311\n"
     ]
    }
   ],
   "source": [
    "plt_x = []\n",
    "plt_y = []\n",
    "\n",
    "for epoch in range(5500):\n",
    "    i = np.random.randint(N)\n",
    "    gradient_w, gradient_b = get_gradient(x[i], y[i])\n",
    "\n",
    "    # ada_delta算法不需要设定超参数 lr\n",
    "    # 需要维持两个变量,delta和S\n",
    "\n",
    "    # S的计算和rms_prop完全一致\n",
    "    S_w = 0.2 * S_w + 0.8 * gradient_w**2\n",
    "    S_b = 0.2 * S_b + 0.8 * gradient_b**2\n",
    "\n",
    "    # 1e-6 用于防止除0\n",
    "    lr = (delta_w + 1e-6) / (S_w + 1e-6)\n",
    "    gradient_w = lr**0.5 * gradient_w\n",
    "\n",
    "    lr = (delta_b + 1e-6) / (S_b + 1e-6)\n",
    "    gradient_b = lr**0.5 * gradient_b\n",
    "\n",
    "    w -= gradient_w\n",
    "    b -= gradient_b\n",
    "\n",
    "    delta_w = 0.2 * delta_w + 0.8 * gradient_w**2\n",
    "    delta_b = 0.2 * delta_b + 0.8 * gradient_b**2\n",
    "\n",
    "    # 在时刻0, S就是梯度的平方乘以0.8\n",
    "    # 因此在一开始的时候, S是比较大的（lr比较小）\n",
    "    plt_x.append(epoch)\n",
    "    plt_y.append(total_loss())\n",
    "\n",
    "    if epoch % 500 == 0:\n",
    "        print(epoch, delta_w[:2], delta_b, total_loss())"
   ]
  },
  {
   "cell_type": "code",
   "execution_count": 14,
   "id": "0471a70d",
   "metadata": {
    "scrolled": true
   },
   "outputs": [
    {
     "data": {
      "image/png": "[encoded data removed]",
      "text/plain": [
       "<Figure size 640x480 with 1 Axes>"
      ]
     },
     "metadata": {},
     "output_type": "display_data"
    }
   ],
   "source": [
    "from matplotlib import pyplot as plt\n",
    "%matplotlib inline\n",
    "\n",
    "plt.plot(plt_x, plt_y)\n",
    "plt.show()"
   ]
  },
  {
   "cell_type": "code",
   "execution_count": null,
   "id": "1f937792",
   "metadata": {},
   "outputs": [],
   "source": []
  }
 ],
 "metadata": {
  "kernelspec": {
   "display_name": "Python 3 (ipykernel)",
   "language": "python",
   "name": "python3"
  },
  "language_info": {
   "codemirror_mode": {
    "name": "ipython",
    "version": 3
   },
   "file_extension": ".py",
   "mimetype": "text/x-python",
   "name": "python",
   "nbconvert_exporter": "python",
   "pygments_lexer": "ipython3",
   "version": "3.9.13"
  }
 },
 "nbformat": 4,
 "nbformat_minor": 5
}
