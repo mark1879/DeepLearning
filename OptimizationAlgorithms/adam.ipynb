{
 "cells": [
  {
   "cell_type": "code",
   "execution_count": 1,
   "id": "4fcd93aa",
   "metadata": {},
   "outputs": [
    {
     "data": {
      "text/plain": [
       "((1503, 5), (1503,))"
      ]
     },
     "execution_count": 1,
     "metadata": {},
     "output_type": "execute_result"
    }
   ],
   "source": [
    "import numpy as np\n",
    "\n",
    "#加载数据\n",
    "data = np.loadtxt(fname='./linear_data.csv', delimiter='\\t')\n",
    "\n",
    "#标准化\n",
    "data -= data.mean(axis=0)\n",
    "data /= data.std(axis=0)\n",
    "\n",
    "x = data[:, :-1]\n",
    "y = data[:, -1]\n",
    "\n",
    "x.shape, y.shape"
   ]
  },
  {
   "cell_type": "code",
   "execution_count": 2,
   "id": "cc6c8e3c",
   "metadata": {},
   "outputs": [],
   "source": [
    "N, M = x.shape\n",
    "\n",
    "w = np.ones(M)\n",
    "b = 0\n",
    "\n",
    "S_w = np.zeros(M)\n",
    "S_b = 0\n",
    "\n",
    "v_w = np.zeros(M)\n",
    "v_b = 0"
   ]
  },
  {
   "cell_type": "code",
   "execution_count": 3,
   "id": "92163201",
   "metadata": {},
   "outputs": [
    {
     "data": {
      "text/plain": [
       "0.6590042695516543"
      ]
     },
     "execution_count": 3,
     "metadata": {},
     "output_type": "execute_result"
    }
   ],
   "source": [
    "def predict(x):\n",
    "    return w.dot(x) + b\n",
    "\n",
    "\n",
    "predict(x[0])"
   ]
  },
  {
   "cell_type": "code",
   "execution_count": 4,
   "id": "a7bb7a80",
   "metadata": {},
   "outputs": [
    {
     "data": {
      "text/plain": [
       "0.21258140154187277"
      ]
     },
     "execution_count": 4,
     "metadata": {},
     "output_type": "execute_result"
    }
   ],
   "source": [
    "def get_loss(x, y):\n",
    "    pred = predict(x)\n",
    "    loss = (pred - y)**2\n",
    "    return loss\n",
    "\n",
    "\n",
    "get_loss(x[0], y[0])"
   ]
  },
  {
   "cell_type": "code",
   "execution_count": 5,
   "id": "8027d213",
   "metadata": {},
   "outputs": [
    {
     "data": {
      "text/plain": [
       "(array([-0.61003339, -1.05581946,  1.66242713,  1.21242212, -0.59417855]),\n",
       " 0.9231310135582593)"
      ]
     },
     "execution_count": 5,
     "metadata": {},
     "output_type": "execute_result"
    }
   ],
   "source": [
    "def get_gradient(x, y):\n",
    "    global w\n",
    "    global b\n",
    "\n",
    "    eps = 1e-3\n",
    "\n",
    "    loss_before = get_loss(x, y)\n",
    "\n",
    "    gradient_w = np.empty(M)\n",
    "    for i in range(M):\n",
    "        w[i] += eps\n",
    "        loss_after = get_loss(x, y)\n",
    "        w[i] -= eps\n",
    "        gradient_w[i] = (loss_after - loss_before) / eps\n",
    "\n",
    "    b += eps\n",
    "    loss_after = get_loss(x, y)\n",
    "    b -= eps\n",
    "    gradient_b = (loss_after - loss_before) / eps\n",
    "\n",
    "    return gradient_w, gradient_b\n",
    "\n",
    "\n",
    "get_gradient(x[0], y[0])"
   ]
  },
  {
   "cell_type": "code",
   "execution_count": 6,
   "id": "f39e0125",
   "metadata": {},
   "outputs": [
    {
     "data": {
      "text/plain": [
       "11073.905141728206"
      ]
     },
     "execution_count": 6,
     "metadata": {},
     "output_type": "execute_result"
    }
   ],
   "source": [
    "def total_loss():\n",
    "    loss = 0\n",
    "    for i in range(N):\n",
    "        loss += get_loss(x[i], y[i])\n",
    "    return loss\n",
    "\n",
    "total_loss()"
   ]
  },
  {
   "cell_type": "code",
   "execution_count": 7,
   "id": "c371c6a4",
   "metadata": {},
   "outputs": [
    {
     "name": "stdout",
     "output_type": "stream",
     "text": [
      "500 [1.10115808 0.25958638] [16.62514305 11.94498442] 1049.0231655861412\n",
      "1000 [-1.10195817 -0.0064765 ] [8.27378371 6.41576294] 750.9852086650071\n",
      "1500 [ 0.31481282 -0.23062141] [5.48831362 4.54166285] 752.1386666763223\n",
      "2000 [ 0.05525845 -0.30745454] [4.51858982 3.52764516] 738.0062748911085\n",
      "2500 [-0.13626825  0.18230391] [4.34240055 2.89563293] 744.000446381704\n",
      "3000 [ 0.04739513 -0.05747044] [3.66314468 2.54602908] 737.253370111261\n",
      "3500 [0.07398062 0.13785881] [3.29008634 2.87398787] 758.2849145415161\n",
      "4000 [ 0.09878398 -0.0906673 ] [2.84223265 2.55469972] 770.6138858026964\n",
      "4500 [-1.56633349  0.3774447 ] [3.74152783 2.78455359] 755.847436134114\n",
      "5000 [ 0.36259469 -1.16145261] [3.21255693 2.73597896] 748.5407315553005\n"
     ]
    }
   ],
   "source": [
    "plt_x = []\n",
    "plt_y = []\n",
    "\n",
    "for t in range(1, 5500):\n",
    "    i = np.random.randint(N)\n",
    "    gradient_w, gradient_b = get_gradient(x[i], y[i])\n",
    "\n",
    "    v_w = 0.9 * v_w + 0.1 * gradient_w\n",
    "    v_b = 0.9 * v_b + 0.1 * gradient_b\n",
    "\n",
    "    S_w = 0.999 * S_w + 0.001 * gradient_w**2\n",
    "    S_b = 0.999 * S_b + 0.001 * gradient_b**2\n",
    "\n",
    "    # 根据以上公式, 在时刻0\n",
    "    # v = [0.1 * gradient_0]\n",
    "\n",
    "    # 可能太过于小, 为了消除这个影响,需要做偏差修正,也就是除以系数\n",
    "    # v = 0.1 * sigma[0.9**(t-i) * gradient_i]\n",
    "    # S = 0.001 * sigma[0.999**(t-i) * gradient_i**2]\n",
    "    \n",
    "    # 将梯度的系数部分整理得到\n",
    "    # 0.1 * sigma[0.9**(t-i)] = 1-0.9**t\n",
    "\n",
    "    # 偏差修正\n",
    "    v_hat_w = v_w / (1 - 0.9**t)\n",
    "    v_hat_b = v_b / (1 - 0.9**t)\n",
    "    S_hat_w = S_w / (1 - 0.999**t)\n",
    "    S_hat_b = S_b / (1 - 0.999**t)\n",
    "\n",
    "    gradient_w = (1e-2 * v_hat_w) / (S_hat_w**0.5 + 1e-6)\n",
    "    gradient_b = (1e-2 * v_hat_b) / (S_hat_b**0.5 + 1e-6)\n",
    "\n",
    "    w -= gradient_w\n",
    "    b -= gradient_b\n",
    "\n",
    "    plt_x.append(t)\n",
    "    plt_y.append(total_loss())\n",
    "\n",
    "    if t % 500 == 0:\n",
    "        print(t, v_hat_w[:2], S_hat_w[:2], total_loss())"
   ]
  },
  {
   "cell_type": "code",
   "execution_count": 8,
   "id": "0471a70d",
   "metadata": {
    "scrolled": true
   },
   "outputs": [
    {
     "data": {
      "image/png": "[encoded data removed]",
      "text/plain": [
       "<Figure size 640x480 with 1 Axes>"
      ]
     },
     "metadata": {},
     "output_type": "display_data"
    }
   ],
   "source": [
    "from matplotlib import pyplot as plt\n",
    "%matplotlib inline\n",
    "\n",
    "plt.plot(plt_x, plt_y)\n",
    "plt.show()"
   ]
  },
  {
   "cell_type": "code",
   "execution_count": null,
   "id": "e03dfe87",
   "metadata": {},
   "outputs": [],
   "source": []
  }
 ],
 "metadata": {
  "kernelspec": {
   "display_name": "Python 3 (ipykernel)",
   "language": "python",
   "name": "python3"
  },
  "language_info": {
   "codemirror_mode": {
    "name": "ipython",
    "version": 3
   },
   "file_extension": ".py",
   "mimetype": "text/x-python",
   "name": "python",
   "nbconvert_exporter": "python",
   "pygments_lexer": "ipython3",
   "version": "3.9.13"
  }
 },
 "nbformat": 4,
 "nbformat_minor": 5
}
